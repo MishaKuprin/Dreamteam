{
 "cells": [
  {
   "cell_type": "code",
   "execution_count": 9,
   "metadata": {},
   "outputs": [],
   "source": [
    "import numpy as np\n",
    "import pandas as pd\n",
    "from faker import Faker\n",
    "\n"
   ]
  },
  {
   "cell_type": "code",
   "execution_count": 3,
   "metadata": {},
   "outputs": [],
   "source": [
    "class CustomerDataGeneration:\n",
    "    def __init__(self,faker_locale,seed,count_to_generate):\n",
    "        self.faker_seed = seed\n",
    "        self.numpy_seed = seed\n",
    "        self.count_to_generate = count_to_generate\n",
    "        self.faker_locale = faker_locale\n",
    "        self.fake = Faker(self.faker_locale)\n",
    "        # Data block\n",
    "        self.names = []\n",
    "        self.first_name = []\n",
    "        self.last_name = []\n",
    "        self.date_of_birth = [] #   20 < date < 82 years\n",
    "        self.gender = []\n",
    "        self.email = []\n",
    "        self.phone_number = []\n",
    "        self.agree_for_promo = []\n",
    "        self.autopay_card = []\n",
    "        self.customer_data_frame = pd.DataFrame(columns = ['first_name',\n",
    "                                                           'last_name',\n",
    "                                                           'date_of_birth',\n",
    "                                                           'gender',\n",
    "                                                           'email',\n",
    "                                                           'phone_number',\n",
    "                                                           'agree_for_promo',\n",
    "                                                           'autopay_card'])\n",
    "    def generate_names(self):\n",
    "        self.names = []   \n",
    "        for _ in range(self.count_to_generate):\n",
    "            self.names.append(self.fake.name())\n",
    "        self._split_names()\n",
    "    \n",
    "    def generate_gender(self, prob_M = 0.487, prob_F = 0.513):\n",
    "        gender_list = self._dist_data_gen(gen_mask = ['M','F'],probs = [prob_M, prob_F])\n",
    "        self.gender = list(gender_list)\n",
    "             \n",
    "    def generate_email(self):\n",
    "        self.email = []   \n",
    "        for _ in range(self.count_to_generate):\n",
    "            self.email.append(self.fake.bothify(text='?*******#')+\"@\"+self.fake.free_email_domain())\n",
    "    \n",
    "    def generate_agree_for_promo(self, prob_Y = 0.33, prob_N = 0.67):\n",
    "        self.agree_for_promo =[]\n",
    "        self.agree_for_promo = list(self._dist_data_gen(gen_mask = ['Yes', 'No'], probs = [prob_Y, prob_N]))\n",
    "    \n",
    "    def generate_autopay_card(self,prob_Y=0.6365):\n",
    "        self.autopay_card = []\n",
    "        self.autopay_card = list(self._dist_data_gen(gen_mask = ['Yes', 'No'], probs = [prob_Y, 1-prob_Y]))\n",
    "    \n",
    "    def generate_birth_date(self):\n",
    "        self.date_of_birth = []   \n",
    "        for _ in range(self.count_to_generate):\n",
    "            self.date_of_birth.append(self.fake.date_between(start_date='-82y', end_date='-15y'))\n",
    "    \n",
    "    def generate_phone_number(self):\n",
    "        self.phone_number = []\n",
    "        for _ in range(self.count_to_generate):\n",
    "            self.phone_number.append(self.fake.numerify(text='90-####-####'))\n",
    "            \n",
    "    def _split_names(self):\n",
    "        self.first_name = []\n",
    "        self.last_name = []\n",
    "        for i in range(len(self.names)):\n",
    "            self.first_name.append(self.names[i].split(' ')[0])\n",
    "            self.last_name.append(self.names[i].split(' ')[1])\n",
    "    \n",
    "    def create_data_frame(self):\n",
    "        self.customer_data_frame['first_name'] = self.first_name\n",
    "        self.customer_data_frame['last_name'] = self.last_name\n",
    "        self.customer_data_frame['date_of_birth'] = self.date_of_birth\n",
    "        self.customer_data_frame[ 'gender'] = self.gender\n",
    "        self.customer_data_frame['email'] = self.email\n",
    "        self.customer_data_frame['phone_number'] = self.phone_number\n",
    "        self.customer_data_frame['agree_for_promo'] = self.agree_for_promo\n",
    "        self.customer_data_frame['autopay_card'] = self.autopay_card\n",
    "        return self.customer_data_frame\n",
    "                                                           \n",
    "    def generate_all_data(self):\n",
    "        self.generate_names()\n",
    "        self.generate_birth_date()\n",
    "        self.generate_gender()\n",
    "        self.generate_email()\n",
    "        self.generate_phone_number()\n",
    "        self.generate_agree_for_promo()\n",
    "        self.generate_autopay_card()\n",
    "        \n",
    "    def _dist_data_gen(self,gen_mask=[0,1],probs=[0.5,0.5]):\n",
    "        return np.random.choice(gen_mask, size=self.count_to_generate, p=probs)\n",
    "         \n",
    "    def customer_data_print(self):\n",
    "        print(\"First Names:\",self.first_name,\n",
    "              \"\\nLast Names:\",self.last_name,\n",
    "              \"\\nFull Names:\",self.names,\n",
    "              \"\\nDate of Birth:\",self.date_of_birth,\n",
    "             \"\\nGender:\",self.gender,\n",
    "             \"\\nEmail:\",self.email,\n",
    "             \"\\nMSISDN\",self.phone_number,\n",
    "             \"\\nagree_for_promo\",self.agree_for_promo,\n",
    "             \"\\nautopay_card\",self.autopay_card)"
   ]
  },
  {
   "cell_type": "code",
   "execution_count": 11,
   "metadata": {},
   "outputs": [],
   "source": [
    "cdg = CustomerDataGeneration('ja_JP',0,5)"
   ]
  },
  {
   "cell_type": "code",
   "execution_count": 12,
   "metadata": {},
   "outputs": [],
   "source": [
    "cdg.generate_names()\n",
    "cdg.generate_birth_date()\n",
    "cdg.generate_gender()\n",
    "cdg.generate_email()"
   ]
  },
  {
   "cell_type": "code",
   "execution_count": 13,
   "metadata": {},
   "outputs": [
    {
     "name": "stdout",
     "output_type": "stream",
     "text": [
      "First Names: ['中村', '藤田', '吉田', '加藤', '加藤'] \n",
      "Last Names: ['知実', 'くみ子', '七夏', '和也', '香織'] \n",
      "Full Names: ['中村 知実', '藤田 くみ子', '吉田 七夏', '加藤 和也', '加藤 香織'] \n",
      "Date of Birth: [datetime.date(1977, 7, 28), datetime.date(1989, 9, 14), datetime.date(1996, 8, 31), datetime.date(1954, 10, 26), datetime.date(1948, 1, 19)] \n",
      "Gender: ['F', 'M', 'F', 'M', 'F'] \n",
      "Email: ['yosukesakamoto@yahoo.com', 'fyoshida@hotmail.com', 'takumaogawa@hotmail.com', 'fnakamura@yahoo.com', 'maisasaki@gmail.com']\n"
     ]
    }
   ],
   "source": [
    "cdg.customer_data_print()"
   ]
  },
  {
   "cell_type": "code",
   "execution_count": 7,
   "metadata": {},
   "outputs": [],
   "source": [
    "values, counts = np.unique(cdg._dist_data_gen(gen_mask = ['sas','sus','kek'],probs=[0.1,0.7,0.2]), return_counts=True)"
   ]
  },
  {
   "cell_type": "code",
   "execution_count": 8,
   "metadata": {},
   "outputs": [
    {
     "name": "stdout",
     "output_type": "stream",
     "text": [
      "push from jupyterlab\n"
     ]
    }
   ],
   "source": [
    "print(\"push from jupyterlab\")"
   ]
  },
  {
   "cell_type": "code",
   "execution_count": null,
   "metadata": {},
   "outputs": [],
   "source": []
  }
 ],
 "metadata": {
  "kernelspec": {
   "display_name": "Python 3",
   "language": "python",
   "name": "python3"
  },
  "language_info": {
   "codemirror_mode": {
    "name": "ipython",
    "version": 3
   },
   "file_extension": ".py",
   "mimetype": "text/x-python",
   "name": "python",
   "nbconvert_exporter": "python",
   "pygments_lexer": "ipython3",
   "version": "3.8.5"
  }
 },
 "nbformat": 4,
 "nbformat_minor": 4
}
