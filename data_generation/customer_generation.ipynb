{
 "cells": [
  {
   "cell_type": "code",
   "execution_count": 2,
   "metadata": {},
   "outputs": [],
   "source": [
    "import numpy as np\n",
    "import pandas as pd\n",
    "from faker import Faker\n",
    "\n"
   ]
  },
  {
   "cell_type": "code",
   "execution_count": 3,
   "metadata": {},
   "outputs": [],
   "source": [
    "class CustomerDataGeneration:\n",
    "    def __init__(self,faker_locale,seed,count_to_generate):\n",
    "        self.faker_seed = seed\n",
    "        self.numpy_seed = seed\n",
    "        self.count_to_generate = count_to_generate\n",
    "        self.faker_locale = faker_locale\n",
    "        self.fake = Faker(self.faker_locale)\n",
    "        # Data block\n",
    "        self.names = []\n",
    "        self.first_name = []\n",
    "        self.last_name = []\n",
    "        self.date_of_birth = [] #   20 < date < 82 years\n",
    "        self.gender = []\n",
    "        self.email = []\n",
    "    \n",
    "    def generate_names(self):\n",
    "        self.names = []   \n",
    "        for _ in range(self.count_to_generate):\n",
    "            self.names.append(self.fake.name())\n",
    "        self._split_names()\n",
    "    \n",
    "    def generate_gender(self):\n",
    "        gender_list = self._dist_data_gen(gen_mask = ['M','F'],probs=[0.487,0.513])\n",
    "        self.gender = list(gender_list)\n",
    "             \n",
    "    def generate_email(self):\n",
    "        self.email = []   \n",
    "        for _ in range(self.count_to_generate):\n",
    "            self.email.append(self.fake.free_email())\n",
    "            \n",
    "    def generate_birth_date(self):\n",
    "        self.date_of_birth = []   \n",
    "        for _ in range(self.count_to_generate):\n",
    "            self.date_of_birth.append(self.fake.date_between(start_date='-82y', end_date='-20y'))\n",
    "            \n",
    "    def _split_names(self):\n",
    "        self.first_name = []\n",
    "        self.last_name = []\n",
    "        for i in range(len(self.names)):\n",
    "            self.first_name.append(self.names[i].split(' ')[0])\n",
    "            self.last_name.append(self.names[i].split(' ')[1])\n",
    "    \n",
    "    def _dist_data_gen(self,gen_mask=[0,1],probs=[0.5,0.5]):\n",
    "        return np.random.choice(gen_mask, size=self.count_to_generate, p=probs)\n",
    "         \n",
    "    def customer_data_print(self):\n",
    "        print(\"First Names:\",self.first_name,\n",
    "              \"\\nLast Names:\",self.last_name,\n",
    "              \"\\nFull Names:\",self.names,\n",
    "              \"\\nDate of Birth:\",self.date_of_birth,\n",
    "             \"\\nGender:\",self.gender,\n",
    "             \"\\nEmail:\",self.email)"
   ]
  },
  {
   "cell_type": "code",
   "execution_count": 4,
   "metadata": {},
   "outputs": [],
   "source": [
    "cdg = CustomerDataGeneration('ja_JP',0,5)"
   ]
  },
  {
   "cell_type": "code",
   "execution_count": 5,
   "metadata": {},
   "outputs": [],
   "source": [
    "cdg.generate_names()\n",
    "cdg.generate_birth_date()\n",
    "cdg.generate_gender()\n",
    "cdg.generate_email()"
   ]
  },
  {
   "cell_type": "code",
   "execution_count": 6,
   "metadata": {},
   "outputs": [
    {
     "name": "stdout",
     "output_type": "stream",
     "text": [
      "First Names: ['小林', '斉藤', '田中', '高橋', '佐藤'] \n",
      "Last Names: ['学', '加奈', '篤司', '千代', '幹'] \n",
      "Full Names: ['小林 学', '斉藤 加奈', '田中 篤司', '高橋 千代', '佐藤 幹'] \n",
      "Date of Birth: [datetime.date(1989, 3, 14), datetime.date(1971, 9, 29), datetime.date(1984, 10, 16), datetime.date(1998, 1, 28), datetime.date(1981, 11, 13)] \n",
      "Gender: ['M', 'M', 'F', 'F', 'F'] \n",
      "Email: ['itosotaro@hotmail.com', 'uyamamoto@hotmail.com', 'kimurakana@yahoo.com', 'fsato@hotmail.com', 'nyamada@gmail.com']\n"
     ]
    }
   ],
   "source": [
    "cdg.customer_data_print()"
   ]
  },
  {
   "cell_type": "code",
   "execution_count": 7,
   "metadata": {},
   "outputs": [],
   "source": [
    "values, counts = np.unique(cdg._dist_data_gen(gen_mask = ['sas','sus','kek'],probs=[0.1,0.7,0.2]), return_counts=True)"
   ]
  },
  {
   "cell_type": "code",
   "execution_count": 8,
   "metadata": {},
   "outputs": [
    {
     "name": "stdout",
     "output_type": "stream",
     "text": [
      "push from jupyterlab\n"
     ]
    }
   ],
   "source": [
    "print(\"push from jupyterlab\")"
   ]
  },
  {
   "cell_type": "code",
   "execution_count": null,
   "metadata": {},
   "outputs": [],
   "source": []
  }
 ],
 "metadata": {
  "kernelspec": {
   "display_name": "Python 3",
   "language": "python",
   "name": "python3"
  },
  "language_info": {
   "codemirror_mode": {
    "name": "ipython",
    "version": 3
   },
   "file_extension": ".py",
   "mimetype": "text/x-python",
   "name": "python",
   "nbconvert_exporter": "python",
   "pygments_lexer": "ipython3",
   "version": "3.8.5"
  }
 },
 "nbformat": 4,
 "nbformat_minor": 4
}
