{
 "cells": [
  {
   "cell_type": "code",
   "execution_count": 1,
   "metadata": {},
   "outputs": [],
   "source": [
    "import numpy as np\n",
    "import pandas as pd\n",
    "from faker import Faker\n",
    "\n"
   ]
  },
  {
   "cell_type": "code",
   "execution_count": 2,
   "metadata": {},
   "outputs": [],
   "source": [
    "class CustomerDataGeneration:\n",
    "    def __init__(self,faker_locale,seed,count_to_generate):\n",
    "        self.faker_seed = seed\n",
    "        self.numpy_seed = seed\n",
    "        self.count_to_generate = count_to_generate\n",
    "        self.faker_locale = faker_locale\n",
    "        self.fake = Faker(self.faker_locale)\n",
    "        # Data block\n",
    "        self.names = []\n",
    "        self.first_name = []\n",
    "        self.last_name = []\n",
    "        self.date_of_birth = [] #   20 < date < 82 years\n",
    "        self.gender = []\n",
    "        self.email = []\n",
    "    \n",
    "    def generate_names(self):\n",
    "        self.names = []   \n",
    "        for _ in range(self.count_to_generate):\n",
    "            self.names.append(self.fake.name())\n",
    "        self._split_names()\n",
    "    \n",
    "    def generate_gender(self):\n",
    "        gender_list = self._dist_data_gen(gen_mask = ['M','F'],probs=[0.487,0.513])\n",
    "        self.gender = list(gender_list)\n",
    "             \n",
    "    def generate_email(self):\n",
    "        self.email = []   \n",
    "        for _ in range(self.count_to_generate):\n",
    "            self.email.append(self.fake.free_email())\n",
    "            \n",
    "    def generate_birth_date(self):\n",
    "        self.date_of_birth = []   \n",
    "        for _ in range(self.count_to_generate):\n",
    "            self.date_of_birth.append(self.fake.date_between(start_date='-82y', end_date='-20y'))\n",
    "            \n",
    "    def _split_names(self):\n",
    "        self.first_name = []\n",
    "        self.last_name = []\n",
    "        for i in range(len(self.names)):\n",
    "            self.first_name.append(self.names[i].split(' ')[0])\n",
    "            self.last_name.append(self.names[i].split(' ')[1])\n",
    "    \n",
    "    def _dist_data_gen(self,gen_mask=[0,1],probs=[0.5,0.5]):\n",
    "        return np.random.choice(gen_mask, size=self.count_to_generate, p=probs)\n",
    "         \n",
    "    def customer_data_print(self):\n",
    "        print(\"First Names:\",self.first_name,\n",
    "              \"\\nLast Names:\",self.last_name,\n",
    "              \"\\nFull Names:\",self.names,\n",
    "              \"\\nDate of Birth:\",self.date_of_birth,\n",
    "             \"\\nGender:\",self.gender,\n",
    "             \"\\nEmail:\",self.email)"
   ]
  },
  {
   "cell_type": "code",
   "execution_count": 10,
   "metadata": {},
   "outputs": [],
   "source": [
    "cdg = CustomerDataGeneration('ja_JP',0,5)"
   ]
  },
  {
   "cell_type": "code",
   "execution_count": 11,
   "metadata": {},
   "outputs": [],
   "source": [
    "cdg.generate_names()\n",
    "cdg.generate_birth_date()\n",
    "cdg.generate_gender()\n",
    "cdg.generate_email()"
   ]
  },
  {
   "cell_type": "code",
   "execution_count": 12,
   "metadata": {},
   "outputs": [
    {
     "name": "stdout",
     "output_type": "stream",
     "text": [
      "First Names: ['林', '斎藤', '松田', '佐々木', '佐々木'] \n",
      "Last Names: ['明美', '直人', '香織', '陽一', 'さゆり'] \n",
      "Full Names: ['林 明美', '斎藤 直人', '松田 香織', '佐々木 陽一', '佐々木 さゆり'] \n",
      "Date of Birth: [datetime.date(1949, 8, 26), datetime.date(1975, 5, 30), datetime.date(1944, 11, 10), datetime.date(1949, 1, 12), datetime.date(1999, 4, 21)] \n",
      "Gender: ['M', 'M', 'M', 'M', 'M'] \n",
      "Email: ['atsushi20@hotmail.com', 'saitoyumiko@yahoo.com', 'sasakimituru@hotmail.com', 'qkobayashi@yahoo.com', 'taichitanaka@hotmail.com']\n"
     ]
    }
   ],
   "source": [
    "cdg.customer_data_print()"
   ]
  },
  {
   "cell_type": "code",
   "execution_count": 13,
   "metadata": {},
   "outputs": [],
   "source": [
    "values, counts = np.unique(cdg._dist_data_gen(gen_mask = ['sas','sus','kek'],probs=[0.1,0.7,0.2]), return_counts=True)"
   ]
  },
  {
   "cell_type": "code",
   "execution_count": 7,
   "metadata": {},
   "outputs": [
    {
     "data": {
      "text/plain": [
       "array(['kek', 'sas', 'sus'], dtype='<U3')"
      ]
     },
     "execution_count": 7,
     "metadata": {},
     "output_type": "execute_result"
    }
   ],
   "source": [
    "values"
   ]
  },
  {
   "cell_type": "code",
   "execution_count": 8,
   "metadata": {},
   "outputs": [
    {
     "data": {
      "text/plain": [
       "array([ 4,  1, 15], dtype=int64)"
      ]
     },
     "execution_count": 8,
     "metadata": {},
     "output_type": "execute_result"
    }
   ],
   "source": [
    "counts"
   ]
  }
 ],
 "metadata": {
  "kernelspec": {
   "display_name": "Python 3",
   "language": "python",
   "name": "python3"
  },
  "language_info": {
   "codemirror_mode": {
    "name": "ipython",
    "version": 3
   },
   "file_extension": ".py",
   "mimetype": "text/x-python",
   "name": "python",
   "nbconvert_exporter": "python",
   "pygments_lexer": "ipython3",
   "version": "3.8.5"
  }
 },
 "nbformat": 4,
 "nbformat_minor": 4
}
